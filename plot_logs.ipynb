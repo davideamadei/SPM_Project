{
 "cells": [
  {
   "cell_type": "code",
   "execution_count": null,
   "metadata": {},
   "outputs": [],
   "source": [
    "import pandas as pd \n",
    "import plotly.graph_objects as go\n",
    "\n",
    "# file = \"war-and-peace\"\n",
    "file = \"large-test\""
   ]
  },
  {
   "cell_type": "code",
   "execution_count": null,
   "metadata": {},
   "outputs": [],
   "source": [
    "version = \"seq\"\n",
    "seq_df = pd.read_csv(f\"./logs/{version}/{file}.csv\")\n",
    "seq_df = seq_df.set_index(\"stat\")\n",
    "seq_df"
   ]
  },
  {
   "cell_type": "code",
   "execution_count": null,
   "metadata": {},
   "outputs": [],
   "source": [
    "version = \"par\"\n",
    "par_df = pd.read_csv(f\"./logs/{version}/1_{file}.csv\")\n",
    "for i in [2,4,8,16,32]:\n",
    "    par_df = par_df.merge(pd.read_csv(f\"./logs/{version}/{i}_{file}.csv\"))\n",
    "par_df = par_df.set_index(\"stat\")\n",
    "par_df"
   ]
  },
  {
   "cell_type": "code",
   "execution_count": null,
   "metadata": {},
   "outputs": [],
   "source": [
    "# version = \"par2\"\n",
    "# par2_df = pd.read_csv(f\"./logs/{version}/1_{file}.csv\")\n",
    "# for i in [2,4,8,16,32]:\n",
    "#     par2_df = par2_df.merge(pd.read_csv(f\"./logs/{version}/{i}_{file}.csv\"))\n",
    "# par2_df = par2_df.set_index(\"stat\")\n",
    "# par2_df"
   ]
  },
  {
   "cell_type": "code",
   "execution_count": null,
   "metadata": {},
   "outputs": [],
   "source": [
    "version = \"ff\"\n",
    "ff_df = pd.read_csv(f\"./logs/{version}/1_{file}.csv\")\n",
    "for i in [2,4,8,16,32]:\n",
    "    ff_df = ff_df.merge(pd.read_csv(f\"./logs/{version}/{i}_{file}.csv\"))\n",
    "ff_df = ff_df.set_index(\"stat\")\n",
    "ff_df"
   ]
  },
  {
   "cell_type": "markdown",
   "metadata": {},
   "source": [
    "# Speedup"
   ]
  },
  {
   "cell_type": "code",
   "execution_count": null,
   "metadata": {},
   "outputs": [],
   "source": [
    "stat = \"encode_and_write\"\n",
    "fig = go.Figure()\n",
    "\n",
    "fig.add_trace(go.Scatter(\n",
    "    x = par_df.loc[stat].index,\n",
    "    y = seq_df.loc[stat].values[0]/par_df.loc[stat].values,\n",
    "    showlegend=True,\n",
    "    name=\"parallel\"\n",
    "))\n",
    "# fig.add_trace(go.Scatter(\n",
    "#     x = par2_df.loc[stat].index,\n",
    "#     y = seq_df.loc[stat].values[0]/par2_df.loc[stat].values,\n",
    "#     showlegend=True,\n",
    "#     name=\"parallel2\"\n",
    "# ))\n",
    "fig.add_trace(go.Scatter(\n",
    "    x = ff_df.loc[stat].index,\n",
    "    y = seq_df.loc[stat].values[0]/ff_df.loc[stat].values,\n",
    "    showlegend=True,\n",
    "    name=\"fastflow\",\n",
    "    line={\"dash\": \"dash\"}\n",
    "))\n",
    "fig.show()"
   ]
  },
  {
   "cell_type": "markdown",
   "metadata": {},
   "source": [
    "# Scalability"
   ]
  },
  {
   "cell_type": "code",
   "execution_count": null,
   "metadata": {},
   "outputs": [],
   "source": [
    "stat = \"encode_and_write\"\n",
    "fig = go.Figure()\n",
    "\n",
    "fig.add_trace(go.Scatter(\n",
    "    x = par_df.loc[stat].index,\n",
    "    y = par_df.loc[stat].values[0]/par_df.loc[stat].values,\n",
    "    showlegend=True,\n",
    "    name=\"parallel\"\n",
    "))\n",
    "# fig.add_trace(go.Scatter(\n",
    "#     x = par2_df.loc[stat].index,\n",
    "#     y = seq_df.loc[stat].values[0]/par2_df.loc[stat].values,\n",
    "#     showlegend=True,\n",
    "#     name=\"parallel2\"\n",
    "# ))\n",
    "fig.add_trace(go.Scatter(\n",
    "    x = ff_df.loc[stat].index,\n",
    "    y = ff_df.loc[stat].values[0]/ff_df.loc[stat].values,\n",
    "    showlegend=True,\n",
    "    name=\"fastflow\",\n",
    "    line={\"dash\": \"dash\"}\n",
    "))\n",
    "fig.show()"
   ]
  }
 ],
 "metadata": {
  "kernelspec": {
   "display_name": "SPM",
   "language": "python",
   "name": "python3"
  },
  "language_info": {
   "codemirror_mode": {
    "name": "ipython",
    "version": 3
   },
   "file_extension": ".py",
   "mimetype": "text/x-python",
   "name": "python",
   "nbconvert_exporter": "python",
   "pygments_lexer": "ipython3",
   "version": "3.12.0"
  },
  "orig_nbformat": 4
 },
 "nbformat": 4,
 "nbformat_minor": 2
}
