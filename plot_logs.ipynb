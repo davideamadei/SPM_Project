{
 "cells": [
  {
   "cell_type": "code",
   "execution_count": 3,
   "metadata": {},
   "outputs": [],
   "source": [
    "import pandas as pd \n",
    "import plotly.graph_objects as go\n",
    "\n",
    "dir = \"logs\"\n",
    "# dir = \"logs_no_rw\"\n",
    "# dir = \"logs_local\"\n",
    "\n",
    "file = \"war-and-peace\"\n",
    "# file = \"large-test\"\n",
    "\n",
    "thread_list = [ 2**j for j in range(1,8) ]"
   ]
  },
  {
   "cell_type": "code",
   "execution_count": null,
   "metadata": {},
   "outputs": [],
   "source": [
    "version = \"seq\"\n",
    "seq_df = pd.read_csv(f\"./logs/{version}/{file}.csv\", delim_whitespace=True)\n",
    "seq_df = seq_df.set_index(\"stats\")\n",
    "seq_df"
   ]
  },
  {
   "cell_type": "code",
   "execution_count": null,
   "metadata": {},
   "outputs": [],
   "source": [
    "version = \"par\"\n",
    "par_df = pd.read_csv(f\"./{dir}/{version}/1_{file}.csv\", delim_whitespace=True)\n",
    "for i in thread_list:\n",
    "    par_df = par_df.merge(pd.read_csv(f\"./{dir}/{version}/{i}_{file}.csv\", delim_whitespace=True))\n",
    "par_df = par_df.set_index(\"stats\")\n",
    "par_df"
   ]
  },
  {
   "cell_type": "code",
   "execution_count": null,
   "metadata": {},
   "outputs": [],
   "source": [
    "version = \"ff\"\n",
    "ff_df = pd.read_csv(f\"./{dir}/{version}/1_{file}.csv\", delim_whitespace=True)\n",
    "for i in thread_list:\n",
    "    ff_df = ff_df.merge(pd.read_csv(f\"./{dir}/{version}/{i}_{file}.csv\", delim_whitespace=True))\n",
    "ff_df = ff_df.set_index(\"stats\")\n",
    "ff_df"
   ]
  },
  {
   "cell_type": "markdown",
   "metadata": {},
   "source": [
    "# Stats"
   ]
  },
  {
   "cell_type": "code",
   "execution_count": null,
   "metadata": {},
   "outputs": [],
   "source": [
    "stat = \"read_and_count\""
   ]
  },
  {
   "cell_type": "markdown",
   "metadata": {},
   "source": [
    "## Speedup"
   ]
  },
  {
   "cell_type": "code",
   "execution_count": null,
   "metadata": {},
   "outputs": [],
   "source": [
    "fig = go.Figure()\n",
    "\n",
    "fig.add_trace(go.Scatter(\n",
    "    x = par_df.loc[stat].index,\n",
    "    y = seq_df.loc[stat].values[0]/par_df.loc[stat].values,\n",
    "    showlegend=True,\n",
    "    name=\"parallel\"\n",
    "))\n",
    "fig.add_trace(go.Scatter(\n",
    "    x = ff_df.loc[stat].index,\n",
    "    y = seq_df.loc[stat].values[0]/ff_df.loc[stat].values,\n",
    "    showlegend=True,\n",
    "    name=\"fastflow\",\n",
    "    line={\"dash\": \"dash\"}\n",
    "))\n",
    "fig.show()"
   ]
  },
  {
   "cell_type": "markdown",
   "metadata": {},
   "source": [
    "## Scalability"
   ]
  },
  {
   "cell_type": "code",
   "execution_count": null,
   "metadata": {},
   "outputs": [],
   "source": [
    "fig = go.Figure()\n",
    "\n",
    "fig.add_trace(go.Scatter(\n",
    "    x = par_df.loc[stat].index,\n",
    "    y = par_df.loc[stat].values[0]/par_df.loc[stat].values,\n",
    "    showlegend=True,\n",
    "    name=\"parallel\"\n",
    "))\n",
    "fig.add_trace(go.Scatter(\n",
    "    x = ff_df.loc[stat].index,\n",
    "    y = ff_df.loc[stat].values[0]/ff_df.loc[stat].values,\n",
    "    showlegend=True,\n",
    "    name=\"fastflow\",\n",
    "    line={\"dash\": \"dash\"}\n",
    "))\n",
    "fig.show()"
   ]
  }
 ],
 "metadata": {
  "kernelspec": {
   "display_name": "SPM",
   "language": "python",
   "name": "python3"
  },
  "language_info": {
   "codemirror_mode": {
    "name": "ipython",
    "version": 3
   },
   "file_extension": ".py",
   "mimetype": "text/x-python",
   "name": "python",
   "nbconvert_exporter": "python",
   "pygments_lexer": "ipython3",
   "version": "3.12.0"
  },
  "orig_nbformat": 4
 },
 "nbformat": 4,
 "nbformat_minor": 2
}
